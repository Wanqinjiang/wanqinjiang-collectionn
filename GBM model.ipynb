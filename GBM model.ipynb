{
 "cells": [
  {
   "cell_type": "code",
   "execution_count": 3,
   "metadata": {},
   "outputs": [],
   "source": [
    "import pandas as pd\n",
    "import numpy as np\n",
    "import xgboost as xgb\n",
    "from sklearn.metrics import roc_auc_score\n",
    "from xgboost import XGBClassifier\n",
    "from sklearn.model_selection import KFold\n",
    "from scipy.interpolate import lagrange\n",
    "import matplotlib.pyplot as plt\n",
    "from sklearn.feature_selection import SelectKBest\n",
    "from sklearn.feature_selection import chi2\n",
    "from sklearn.linear_model import LogisticRegressionCV,LinearRegression\n",
    "from sklearn.linear_model.logistic import LogisticRegression\n",
    "from sklearn.model_selection import train_test_split\n",
    "from sklearn.model_selection import cross_val_score\n",
    "from sklearn.model_selection import StratifiedKFold\n",
    "from sklearn.model_selection import GridSearchCV\n",
    "from sklearn.decomposition import PCA\n",
    "from sklearn.manifold import TSNE\n",
    "from sklearn import metrics\n",
    "from sklearn.preprocessing import OneHotEncoder\n",
    "from collections import Counter\n",
    "import pandas as pd\n",
    "import numpy as np\n",
    "import xgboost as xgb\n",
    "from sklearn.metrics import roc_auc_score\n",
    "from xgboost import XGBClassifier\n",
    "from sklearn.model_selection import KFold\n",
    "from scipy.interpolate import lagrange\n",
    "import matplotlib.pyplot as plt\n",
    "from sklearn.linear_model import LogisticRegressionCV,LinearRegression\n",
    "from sklearn.linear_model.logistic import LogisticRegression\n",
    "from sklearn.model_selection import train_test_split\n",
    "from sklearn.model_selection import cross_val_score\n",
    "from sklearn.model_selection import StratifiedKFold\n",
    "from sklearn.model_selection import GridSearchCV\n",
    "from sklearn.feature_selection import SelectKBest\n",
    "from sklearn.feature_selection import chi2\n",
    "from sklearn.decomposition import PCA\n",
    "from sklearn.manifold import TSNE\n",
    "from sklearn.metrics import roc_curve\n",
    "import lightgbm as lgb\n",
    "from sklearn.pipeline import make_pipeline\n",
    "from sklearn import metrics\n",
    "from collections import Counter\n",
    "import warnings\n",
    "warnings.filterwarnings(module='sklearn*', action='ignore', category=DeprecationWarning)\n",
    "from catboost import CatBoostClassifier\n",
    "import random\n",
    "from sklearn.neighbors import NearestNeighbors"
   ]
  },
  {
   "cell_type": "code",
   "execution_count": 95,
   "metadata": {},
   "outputs": [
    {
     "name": "stdout",
     "output_type": "stream",
     "text": [
      "(15354, 41)\n"
     ]
    }
   ],
   "source": [
    "place = '4.txt'\n",
    "train = pd.read_csv(place, sep='\\t')\n",
    "print(train.shape)"
   ]
  },
  {
   "cell_type": "code",
   "execution_count": 96,
   "metadata": {},
   "outputs": [
    {
     "name": "stdout",
     "output_type": "stream",
     "text": [
      "(15338, 41)\n"
     ]
    }
   ],
   "source": [
    "train = train.dropna(axis=0)\n",
    "print(train.shape)"
   ]
  },
  {
   "cell_type": "code",
   "execution_count": 97,
   "metadata": {
    "collapsed": true
   },
   "outputs": [],
   "source": [
    "train.index = list(range(15338))"
   ]
  },
  {
   "cell_type": "code",
   "execution_count": 98,
   "metadata": {},
   "outputs": [
    {
     "name": "stdout",
     "output_type": "stream",
     "text": [
      "13455\n",
      "1883\n"
     ]
    }
   ],
   "source": [
    "y = train['fld']\n",
    "train = train.drop(['fld','ms','bmir','age','性别','mscount','收缩压','平均红细胞血红蛋白含量','总胆固醇',\n",
    "                    '平均红细胞血红蛋白浓度','尿素氮','身高','红细胞压积','臀围','红细胞体积分布宽度','中性粒细胞百分比',\n",
    "                   '血小板压积','高低蛋白比','血红蛋白','淋巴细胞百分比','舒张压'],axis=1)\n",
    "print(np.sum(y==0))\n",
    "print(np.sum(y==1))"
   ]
  },
  {
   "cell_type": "code",
   "execution_count": 99,
   "metadata": {},
   "outputs": [
    {
     "data": {
      "text/plain": [
       "(15338, 20)"
      ]
     },
     "execution_count": 99,
     "metadata": {},
     "output_type": "execute_result"
    }
   ],
   "source": [
    "train.shape"
   ]
  },
  {
   "cell_type": "code",
   "execution_count": 100,
   "metadata": {
    "collapsed": true
   },
   "outputs": [],
   "source": [
    "X = np.array(train)\n",
    "y = np.array(y)"
   ]
  },
  {
   "cell_type": "code",
   "execution_count": 105,
   "metadata": {},
   "outputs": [
    {
     "name": "stderr",
     "output_type": "stream",
     "text": [
      "D:\\anaconda\\lib\\site-packages\\sklearn\\linear_model\\logistic.py:432: FutureWarning: Default solver will be changed to 'lbfgs' in 0.22. Specify a solver to silence this warning.\n",
      "  FutureWarning)\n",
      "D:\\anaconda\\lib\\site-packages\\sklearn\\linear_model\\logistic.py:432: FutureWarning: Default solver will be changed to 'lbfgs' in 0.22. Specify a solver to silence this warning.\n",
      "  FutureWarning)\n",
      "D:\\anaconda\\lib\\site-packages\\sklearn\\linear_model\\logistic.py:432: FutureWarning: Default solver will be changed to 'lbfgs' in 0.22. Specify a solver to silence this warning.\n",
      "  FutureWarning)\n",
      "D:\\anaconda\\lib\\site-packages\\sklearn\\linear_model\\logistic.py:432: FutureWarning: Default solver will be changed to 'lbfgs' in 0.22. Specify a solver to silence this warning.\n",
      "  FutureWarning)\n",
      "D:\\anaconda\\lib\\site-packages\\sklearn\\linear_model\\logistic.py:432: FutureWarning: Default solver will be changed to 'lbfgs' in 0.22. Specify a solver to silence this warning.\n",
      "  FutureWarning)\n",
      "D:\\anaconda\\lib\\site-packages\\sklearn\\linear_model\\logistic.py:432: FutureWarning: Default solver will be changed to 'lbfgs' in 0.22. Specify a solver to silence this warning.\n",
      "  FutureWarning)\n",
      "D:\\anaconda\\lib\\site-packages\\sklearn\\linear_model\\logistic.py:432: FutureWarning: Default solver will be changed to 'lbfgs' in 0.22. Specify a solver to silence this warning.\n",
      "  FutureWarning)\n",
      "D:\\anaconda\\lib\\site-packages\\sklearn\\linear_model\\logistic.py:432: FutureWarning: Default solver will be changed to 'lbfgs' in 0.22. Specify a solver to silence this warning.\n",
      "  FutureWarning)\n",
      "D:\\anaconda\\lib\\site-packages\\sklearn\\linear_model\\logistic.py:432: FutureWarning: Default solver will be changed to 'lbfgs' in 0.22. Specify a solver to silence this warning.\n",
      "  FutureWarning)\n",
      "D:\\anaconda\\lib\\site-packages\\sklearn\\linear_model\\logistic.py:432: FutureWarning: Default solver will be changed to 'lbfgs' in 0.22. Specify a solver to silence this warning.\n",
      "  FutureWarning)\n"
     ]
    },
    {
     "name": "stdout",
     "output_type": "stream",
     "text": [
      "The accuracy on trainging set is: 0.7664695773369402 The accuracy on test set is: 0.7661332758621546\n",
      "The Sensitivity is: 0.8141084093211752 The Specificity is 0.7594194004540509\n",
      "auc is: 0.7867639048876129\n"
     ]
    }
   ],
   "source": [
    "skf = StratifiedKFold(n_splits=10,random_state=0,shuffle=True)\n",
    "clf = LogisticRegression(class_weight={1:7.5,0:1})\n",
    "score1 = []\n",
    "score2 = []\n",
    "Sensitivity = []\n",
    "Specificity = []\n",
    "auc = []\n",
    "for train, test in skf.split(X,y):\n",
    "    X_train,X_test=X[train],X[test]\n",
    "    y_train,y_test=y[train],y[test]\n",
    "    clf.fit(X_train, y_train)\n",
    "    \n",
    "    y_pred1 = clf.predict(X_train)\n",
    "    accuracy1 = np.mean(y_train==y_pred1)\n",
    "    score1.append(accuracy1)\n",
    "    \n",
    "    y_pred2 = clf.predict(X_test)\n",
    "    accuracy2 = np.mean(y_test==y_pred2)\n",
    "    score2.append(accuracy2)\n",
    "    confusion = metrics.confusion_matrix(y_test, y_pred2)\n",
    "    auc_ = metrics.roc_auc_score(y_test, y_pred2)\n",
    "    TP = confusion[1, 1]\n",
    "    TN = confusion[0, 0]\n",
    "    FP = confusion[0, 1]\n",
    "    FN = confusion[1, 0]\n",
    "    TPR = TP/(TP+FN)\n",
    "    TNR = TN/(TN+FP)\n",
    "    Sensitivity.append(TPR)\n",
    "    Specificity.append(TNR)\n",
    "    auc.append(auc_)\n",
    "score1 = np.array(score1)\n",
    "score2 = np.array(score2)\n",
    "Sensitivity = np.array(Sensitivity)\n",
    "Specificity = np.array(Specificity)\n",
    "auc = np.array(auc)\n",
    "print('The accuracy on trainging set is:',np.mean(score1),'The accuracy on test set is:', np.mean(score2))\n",
    "print('The Sensitivity is:', np.mean(Sensitivity), 'The Specificity is', np.mean(Specificity))\n",
    "print('auc is:', np.mean(auc))"
   ]
  },
  {
   "cell_type": "code",
   "execution_count": 107,
   "metadata": {},
   "outputs": [
    {
     "name": "stdout",
     "output_type": "stream",
     "text": [
      "The accuracy on trainging set is: 0.7575664883698315 The accuracy on test set is: 0.7436398169777207\n",
      "The Sensitivity is: 0.8316306428008555 The Specificity is 0.7313256406149019\n",
      "auc is: 0.7814781417078788\n"
     ]
    }
   ],
   "source": [
    "skf = StratifiedKFold(n_splits=10,random_state=0,shuffle=True)\n",
    "clf = lgb.LGBMClassifier(class_weight={1:8,0:1},categorical_features=[0],\n",
    "                        colsample_bytree=0.8,num_leaves=7,reg_alpha=4,reg_lambda=14,\n",
    "                         min_child_samples=3, importance_type='split')\n",
    "score1 = []\n",
    "score2 = []\n",
    "Sensitivity = []\n",
    "Specificity = []\n",
    "auc = []\n",
    "A = []\n",
    "for train, test in skf.split(X,y):\n",
    "    X_train,X_test=X[train],X[test]\n",
    "    y_train,y_test=y[train],y[test]\n",
    "    clf.fit(X_train, y_train)\n",
    "    \n",
    "    y_pred1 = clf.predict(X_train)\n",
    "    accuracy1 = np.mean(y_train==y_pred1)\n",
    "    score1.append(accuracy1)\n",
    "    \n",
    "    y_pred2 = clf.predict(X_test)\n",
    "    accuracy2 = np.mean(y_test==y_pred2)\n",
    "    score2.append(accuracy2)\n",
    "    confusion = metrics.confusion_matrix(y_test, y_pred2)\n",
    "    auc_ = metrics.roc_auc_score(y_test, y_pred2)\n",
    "    TP = confusion[1, 1]\n",
    "    TN = confusion[0, 0]\n",
    "    FP = confusion[0, 1]\n",
    "    FN = confusion[1, 0]\n",
    "    TPR = TP/(TP+FN)\n",
    "    TNR = TN/(TN+FP)\n",
    "    Sensitivity.append(TPR)\n",
    "    Specificity.append(TNR)\n",
    "    auc.append(auc_)\n",
    "    A.append(clf.booster_.feature_importance())\n",
    "score1 = np.array(score1)\n",
    "score2 = np.array(score2)\n",
    "Sensitivity = np.array(Sensitivity)\n",
    "Specificity = np.array(Specificity)\n",
    "auc = np.array(auc)\n",
    "print('The accuracy on trainging set is:',np.mean(score1),'The accuracy on test set is:', np.mean(score2))\n",
    "print('The Sensitivity is:', np.mean(Sensitivity), 'The Specificity is', np.mean(Specificity))\n",
    "print('auc is:', np.mean(auc))"
   ]
  },
  {
   "cell_type": "code",
   "execution_count": 108,
   "metadata": {
    "scrolled": true
   },
   "outputs": [
    {
     "data": {
      "image/svg+xml": [
       "<?xml version=\"1.0\" encoding=\"UTF-8\" standalone=\"no\"?>\r\n",
       "<!DOCTYPE svg PUBLIC \"-//W3C//DTD SVG 1.1//EN\"\r\n",
       " \"http://www.w3.org/Graphics/SVG/1.1/DTD/svg11.dtd\">\r\n",
       "<!-- Generated by graphviz version 2.38.0 (20140413.2041)\r\n",
       " -->\r\n",
       "<!-- Title: %3 Pages: 1 -->\r\n",
       "<svg width=\"1864pt\" height=\"376pt\"\r\n",
       " viewBox=\"0.00 0.00 1864.04 375.96\" xmlns=\"http://www.w3.org/2000/svg\" xmlns:xlink=\"http://www.w3.org/1999/xlink\">\r\n",
       "<g id=\"graph0\" class=\"graph\" transform=\"scale(1 1) rotate(0) translate(4 371.96)\">\r\n",
       "<title>%3</title>\r\n",
       "<polygon fill=\"white\" stroke=\"none\" points=\"-4,4 -4,-371.96 1860.04,-371.96 1860.04,4 -4,4\"/>\r\n",
       "<!-- split0 -->\r\n",
       "<g id=\"node1\" class=\"node\"><title>split0</title>\r\n",
       "<ellipse fill=\"none\" stroke=\"black\" cx=\"1237.79\" cy=\"-341.09\" rx=\"137.358\" ry=\"26.7407\"/>\r\n",
       "<text text-anchor=\"middle\" x=\"1237.79\" y=\"-344.89\" font-family=\"Times New Roman,serif\" font-size=\"14.00\">split_feature_name: Column_16</text>\r\n",
       "<text text-anchor=\"middle\" x=\"1237.79\" y=\"-329.89\" font-family=\"Times New Roman,serif\" font-size=\"14.00\">threshold: 79.50000000000001</text>\r\n",
       "</g>\r\n",
       "<!-- split1 -->\r\n",
       "<g id=\"node2\" class=\"node\"><title>split1</title>\r\n",
       "<ellipse fill=\"none\" stroke=\"black\" cx=\"851.785\" cy=\"-236.35\" rx=\"137.358\" ry=\"26.7407\"/>\r\n",
       "<text text-anchor=\"middle\" x=\"851.785\" y=\"-240.15\" font-family=\"Times New Roman,serif\" font-size=\"14.00\">split_feature_name: Column_2</text>\r\n",
       "<text text-anchor=\"middle\" x=\"851.785\" y=\"-225.15\" font-family=\"Times New Roman,serif\" font-size=\"14.00\">threshold: 0.9850000000000001</text>\r\n",
       "</g>\r\n",
       "<!-- split0&#45;&gt;split1 -->\r\n",
       "<g id=\"edge7\" class=\"edge\"><title>split0&#45;&gt;split1</title>\r\n",
       "<path fill=\"none\" stroke=\"black\" d=\"M1158.74,-319.051C1095.38,-302.188 1006.5,-278.53 940.672,-261.009\"/>\r\n",
       "<polygon fill=\"black\" stroke=\"black\" points=\"941.288,-257.551 930.724,-258.361 939.487,-264.315 941.288,-257.551\"/>\r\n",
       "<text text-anchor=\"middle\" x=\"1077.29\" y=\"-285.02\" font-family=\"Times New Roman,serif\" font-size=\"14.00\">&lt;=</text>\r\n",
       "</g>\r\n",
       "<!-- split2 -->\r\n",
       "<g id=\"node9\" class=\"node\"><title>split2</title>\r\n",
       "<ellipse fill=\"none\" stroke=\"black\" cx=\"1405.79\" cy=\"-236.35\" rx=\"137.358\" ry=\"26.7407\"/>\r\n",
       "<text text-anchor=\"middle\" x=\"1405.79\" y=\"-240.15\" font-family=\"Times New Roman,serif\" font-size=\"14.00\">split_feature_name: Column_16</text>\r\n",
       "<text text-anchor=\"middle\" x=\"1405.79\" y=\"-225.15\" font-family=\"Times New Roman,serif\" font-size=\"14.00\">threshold: 87.50000000000001</text>\r\n",
       "</g>\r\n",
       "<!-- split0&#45;&gt;split2 -->\r\n",
       "<g id=\"edge12\" class=\"edge\"><title>split0&#45;&gt;split2</title>\r\n",
       "<path fill=\"none\" stroke=\"black\" d=\"M1278.45,-315.22C1301.99,-300.823 1331.79,-282.603 1356.64,-267.407\"/>\r\n",
       "<polygon fill=\"black\" stroke=\"black\" points=\"1358.5,-270.373 1365.2,-262.17 1354.84,-264.401 1358.5,-270.373\"/>\r\n",
       "<text text-anchor=\"middle\" x=\"1337.29\" y=\"-285.02\" font-family=\"Times New Roman,serif\" font-size=\"14.00\">&gt;</text>\r\n",
       "</g>\r\n",
       "<!-- split5 -->\r\n",
       "<g id=\"node3\" class=\"node\"><title>split5</title>\r\n",
       "<ellipse fill=\"none\" stroke=\"black\" cx=\"465.785\" cy=\"-131.61\" rx=\"137.358\" ry=\"26.7407\"/>\r\n",
       "<text text-anchor=\"middle\" x=\"465.785\" y=\"-135.41\" font-family=\"Times New Roman,serif\" font-size=\"14.00\">split_feature_name: Column_16</text>\r\n",
       "<text text-anchor=\"middle\" x=\"465.785\" y=\"-120.41\" font-family=\"Times New Roman,serif\" font-size=\"14.00\">threshold: 73.50000000000001</text>\r\n",
       "</g>\r\n",
       "<!-- split1&#45;&gt;split5 -->\r\n",
       "<g id=\"edge3\" class=\"edge\"><title>split1&#45;&gt;split5</title>\r\n",
       "<path fill=\"none\" stroke=\"black\" d=\"M772.741,-214.311C709.383,-197.448 620.498,-173.789 554.672,-156.269\"/>\r\n",
       "<polygon fill=\"black\" stroke=\"black\" points=\"555.288,-152.811 544.724,-153.621 553.487,-159.575 555.288,-152.811\"/>\r\n",
       "<text text-anchor=\"middle\" x=\"691.285\" y=\"-180.28\" font-family=\"Times New Roman,serif\" font-size=\"14.00\">&lt;=</text>\r\n",
       "</g>\r\n",
       "<!-- split4 -->\r\n",
       "<g id=\"node6\" class=\"node\"><title>split4</title>\r\n",
       "<ellipse fill=\"none\" stroke=\"black\" cx=\"851.785\" cy=\"-131.61\" rx=\"137.358\" ry=\"26.7407\"/>\r\n",
       "<text text-anchor=\"middle\" x=\"851.785\" y=\"-135.41\" font-family=\"Times New Roman,serif\" font-size=\"14.00\">split_feature_name: Column_15</text>\r\n",
       "<text text-anchor=\"middle\" x=\"851.785\" y=\"-120.41\" font-family=\"Times New Roman,serif\" font-size=\"14.00\">threshold: 0.7450000000000001</text>\r\n",
       "</g>\r\n",
       "<!-- split1&#45;&gt;split4 -->\r\n",
       "<g id=\"edge6\" class=\"edge\"><title>split1&#45;&gt;split4</title>\r\n",
       "<path fill=\"none\" stroke=\"black\" d=\"M851.785,-209.425C851.785,-197.135 851.785,-182.247 851.785,-168.862\"/>\r\n",
       "<polygon fill=\"black\" stroke=\"black\" points=\"855.285,-168.528 851.785,-158.528 848.285,-168.528 855.285,-168.528\"/>\r\n",
       "<text text-anchor=\"middle\" x=\"856.285\" y=\"-180.28\" font-family=\"Times New Roman,serif\" font-size=\"14.00\">&gt;</text>\r\n",
       "</g>\r\n",
       "<!-- leaf0 -->\r\n",
       "<g id=\"node4\" class=\"node\"><title>leaf0</title>\r\n",
       "<ellipse fill=\"none\" stroke=\"black\" cx=\"147.785\" cy=\"-26.8701\" rx=\"147.571\" ry=\"26.7407\"/>\r\n",
       "<text text-anchor=\"middle\" x=\"147.785\" y=\"-30.6701\" font-family=\"Times New Roman,serif\" font-size=\"14.00\">leaf_index: 0</text>\r\n",
       "<text text-anchor=\"middle\" x=\"147.785\" y=\"-15.6701\" font-family=\"Times New Roman,serif\" font-size=\"14.00\">leaf_value: &#45;0.11204053356788234</text>\r\n",
       "</g>\r\n",
       "<!-- split5&#45;&gt;leaf0 -->\r\n",
       "<g id=\"edge1\" class=\"edge\"><title>split5&#45;&gt;leaf0</title>\r\n",
       "<path fill=\"none\" stroke=\"black\" d=\"M396.784,-108.317C347,-92.2328 279.664,-70.4778 227.568,-53.6464\"/>\r\n",
       "<polygon fill=\"black\" stroke=\"black\" points=\"228.617,-50.3073 218.025,-50.5634 226.465,-56.9683 228.617,-50.3073\"/>\r\n",
       "<text text-anchor=\"middle\" x=\"335.285\" y=\"-75.5401\" font-family=\"Times New Roman,serif\" font-size=\"14.00\">&lt;=</text>\r\n",
       "</g>\r\n",
       "<!-- leaf6 -->\r\n",
       "<g id=\"node5\" class=\"node\"><title>leaf6</title>\r\n",
       "<ellipse fill=\"none\" stroke=\"black\" cx=\"465.785\" cy=\"-26.8701\" rx=\"152.056\" ry=\"26.7407\"/>\r\n",
       "<text text-anchor=\"middle\" x=\"465.785\" y=\"-30.6701\" font-family=\"Times New Roman,serif\" font-size=\"14.00\">leaf_index: 6</text>\r\n",
       "<text text-anchor=\"middle\" x=\"465.785\" y=\"-15.6701\" font-family=\"Times New Roman,serif\" font-size=\"14.00\">leaf_value: &#45;0.051004250231241645</text>\r\n",
       "</g>\r\n",
       "<!-- split5&#45;&gt;leaf6 -->\r\n",
       "<g id=\"edge2\" class=\"edge\"><title>split5&#45;&gt;leaf6</title>\r\n",
       "<path fill=\"none\" stroke=\"black\" d=\"M465.785,-104.685C465.785,-92.3951 465.785,-77.5066 465.785,-64.1214\"/>\r\n",
       "<polygon fill=\"black\" stroke=\"black\" points=\"469.285,-63.7874 465.785,-53.7874 462.285,-63.7875 469.285,-63.7874\"/>\r\n",
       "<text text-anchor=\"middle\" x=\"470.285\" y=\"-75.5401\" font-family=\"Times New Roman,serif\" font-size=\"14.00\">&gt;</text>\r\n",
       "</g>\r\n",
       "<!-- leaf2 -->\r\n",
       "<g id=\"node7\" class=\"node\"><title>leaf2</title>\r\n",
       "<ellipse fill=\"none\" stroke=\"black\" cx=\"778.785\" cy=\"-26.8701\" rx=\"142.671\" ry=\"26.7407\"/>\r\n",
       "<text text-anchor=\"middle\" x=\"778.785\" y=\"-30.6701\" font-family=\"Times New Roman,serif\" font-size=\"14.00\">leaf_index: 2</text>\r\n",
       "<text text-anchor=\"middle\" x=\"778.785\" y=\"-15.6701\" font-family=\"Times New Roman,serif\" font-size=\"14.00\">leaf_value: &#45;0.1125838192034196</text>\r\n",
       "</g>\r\n",
       "<!-- split4&#45;&gt;leaf2 -->\r\n",
       "<g id=\"edge4\" class=\"edge\"><title>split4&#45;&gt;leaf2</title>\r\n",
       "<path fill=\"none\" stroke=\"black\" d=\"M833.553,-104.95C824.32,-91.9555 812.986,-76.0044 803.029,-61.9909\"/>\r\n",
       "<polygon fill=\"black\" stroke=\"black\" points=\"805.684,-59.6842 797.039,-53.5597 799.978,-63.7387 805.684,-59.6842\"/>\r\n",
       "<text text-anchor=\"middle\" x=\"828.285\" y=\"-75.5401\" font-family=\"Times New Roman,serif\" font-size=\"14.00\">&lt;=</text>\r\n",
       "</g>\r\n",
       "<!-- leaf5 -->\r\n",
       "<g id=\"node8\" class=\"node\"><title>leaf5</title>\r\n",
       "<ellipse fill=\"none\" stroke=\"black\" cx=\"1091.79\" cy=\"-26.8701\" rx=\"152.056\" ry=\"26.7407\"/>\r\n",
       "<text text-anchor=\"middle\" x=\"1091.79\" y=\"-30.6701\" font-family=\"Times New Roman,serif\" font-size=\"14.00\">leaf_index: 5</text>\r\n",
       "<text text-anchor=\"middle\" x=\"1091.79\" y=\"-15.6701\" font-family=\"Times New Roman,serif\" font-size=\"14.00\">leaf_value: &#45;0.014952370654547381</text>\r\n",
       "</g>\r\n",
       "<!-- split4&#45;&gt;leaf5 -->\r\n",
       "<g id=\"edge5\" class=\"edge\"><title>split4&#45;&gt;leaf5</title>\r\n",
       "<path fill=\"none\" stroke=\"black\" d=\"M907.148,-106.911C942.625,-91.723 988.847,-71.9362 1026.17,-55.9596\"/>\r\n",
       "<polygon fill=\"black\" stroke=\"black\" points=\"1027.64,-59.138 1035.45,-51.9849 1024.88,-52.7028 1027.64,-59.138\"/>\r\n",
       "<text text-anchor=\"middle\" x=\"991.285\" y=\"-75.5401\" font-family=\"Times New Roman,serif\" font-size=\"14.00\">&gt;</text>\r\n",
       "</g>\r\n",
       "<!-- split3 -->\r\n",
       "<g id=\"node10\" class=\"node\"><title>split3</title>\r\n",
       "<ellipse fill=\"none\" stroke=\"black\" cx=\"1405.79\" cy=\"-131.61\" rx=\"132.458\" ry=\"26.7407\"/>\r\n",
       "<text text-anchor=\"middle\" x=\"1405.79\" y=\"-135.41\" font-family=\"Times New Roman,serif\" font-size=\"14.00\">split_feature_name: Column_2</text>\r\n",
       "<text text-anchor=\"middle\" x=\"1405.79\" y=\"-120.41\" font-family=\"Times New Roman,serif\" font-size=\"14.00\">threshold: 1.965</text>\r\n",
       "</g>\r\n",
       "<!-- split2&#45;&gt;split3 -->\r\n",
       "<g id=\"edge10\" class=\"edge\"><title>split2&#45;&gt;split3</title>\r\n",
       "<path fill=\"none\" stroke=\"black\" d=\"M1405.79,-209.425C1405.79,-197.135 1405.79,-182.247 1405.79,-168.862\"/>\r\n",
       "<polygon fill=\"black\" stroke=\"black\" points=\"1409.29,-168.528 1405.79,-158.528 1402.29,-168.528 1409.29,-168.528\"/>\r\n",
       "<text text-anchor=\"middle\" x=\"1414.29\" y=\"-180.28\" font-family=\"Times New Roman,serif\" font-size=\"14.00\">&lt;=</text>\r\n",
       "</g>\r\n",
       "<!-- leaf3 -->\r\n",
       "<g id=\"node13\" class=\"node\"><title>leaf3</title>\r\n",
       "<ellipse fill=\"none\" stroke=\"black\" cx=\"1699.79\" cy=\"-131.61\" rx=\"144.5\" ry=\"26.7407\"/>\r\n",
       "<text text-anchor=\"middle\" x=\"1699.79\" y=\"-135.41\" font-family=\"Times New Roman,serif\" font-size=\"14.00\">leaf_index: 3</text>\r\n",
       "<text text-anchor=\"middle\" x=\"1699.79\" y=\"-120.41\" font-family=\"Times New Roman,serif\" font-size=\"14.00\">leaf_value: 0.06464615590543386</text>\r\n",
       "</g>\r\n",
       "<!-- split2&#45;&gt;leaf3 -->\r\n",
       "<g id=\"edge11\" class=\"edge\"><title>split2&#45;&gt;leaf3</title>\r\n",
       "<path fill=\"none\" stroke=\"black\" d=\"M1471.03,-212.549C1516.38,-196.703 1576.94,-175.541 1624.35,-158.97\"/>\r\n",
       "<polygon fill=\"black\" stroke=\"black\" points=\"1625.67,-162.217 1633.96,-155.614 1623.36,-155.609 1625.67,-162.217\"/>\r\n",
       "<text text-anchor=\"middle\" x=\"1575.29\" y=\"-180.28\" font-family=\"Times New Roman,serif\" font-size=\"14.00\">&gt;</text>\r\n",
       "</g>\r\n",
       "<!-- leaf1 -->\r\n",
       "<g id=\"node11\" class=\"node\"><title>leaf1</title>\r\n",
       "<ellipse fill=\"none\" stroke=\"black\" cx=\"1405.79\" cy=\"-26.8701\" rx=\"144.5\" ry=\"26.7407\"/>\r\n",
       "<text text-anchor=\"middle\" x=\"1405.79\" y=\"-30.6701\" font-family=\"Times New Roman,serif\" font-size=\"14.00\">leaf_index: 1</text>\r\n",
       "<text text-anchor=\"middle\" x=\"1405.79\" y=\"-15.6701\" font-family=\"Times New Roman,serif\" font-size=\"14.00\">leaf_value: 0.00405083020274431</text>\r\n",
       "</g>\r\n",
       "<!-- split3&#45;&gt;leaf1 -->\r\n",
       "<g id=\"edge8\" class=\"edge\"><title>split3&#45;&gt;leaf1</title>\r\n",
       "<path fill=\"none\" stroke=\"black\" d=\"M1405.79,-104.685C1405.79,-92.3951 1405.79,-77.5066 1405.79,-64.1214\"/>\r\n",
       "<polygon fill=\"black\" stroke=\"black\" points=\"1409.29,-63.7874 1405.79,-53.7874 1402.29,-63.7875 1409.29,-63.7874\"/>\r\n",
       "<text text-anchor=\"middle\" x=\"1414.29\" y=\"-75.5401\" font-family=\"Times New Roman,serif\" font-size=\"14.00\">&lt;=</text>\r\n",
       "</g>\r\n",
       "<!-- leaf4 -->\r\n",
       "<g id=\"node12\" class=\"node\"><title>leaf4</title>\r\n",
       "<ellipse fill=\"none\" stroke=\"black\" cx=\"1711.79\" cy=\"-26.8701\" rx=\"144.5\" ry=\"26.7407\"/>\r\n",
       "<text text-anchor=\"middle\" x=\"1711.79\" y=\"-30.6701\" font-family=\"Times New Roman,serif\" font-size=\"14.00\">leaf_index: 4</text>\r\n",
       "<text text-anchor=\"middle\" x=\"1711.79\" y=\"-15.6701\" font-family=\"Times New Roman,serif\" font-size=\"14.00\">leaf_value: 0.06683888254119098</text>\r\n",
       "</g>\r\n",
       "<!-- split3&#45;&gt;leaf4 -->\r\n",
       "<g id=\"edge9\" class=\"edge\"><title>split3&#45;&gt;leaf4</title>\r\n",
       "<path fill=\"none\" stroke=\"black\" d=\"M1472.18,-108.317C1519.91,-92.2939 1584.39,-70.6429 1634.44,-53.8384\"/>\r\n",
       "<polygon fill=\"black\" stroke=\"black\" points=\"1635.56,-57.1534 1643.93,-50.6525 1633.34,-50.5175 1635.56,-57.1534\"/>\r\n",
       "<text text-anchor=\"middle\" x=\"1582.29\" y=\"-75.5401\" font-family=\"Times New Roman,serif\" font-size=\"14.00\">&gt;</text>\r\n",
       "</g>\r\n",
       "</g>\r\n",
       "</svg>\r\n"
      ],
      "text/plain": [
       "<graphviz.dot.Digraph at 0x221d597dba8>"
      ]
     },
     "execution_count": 108,
     "metadata": {},
     "output_type": "execute_result"
    }
   ],
   "source": [
    "import os\n",
    "os.environ[\"PATH\"] += os.pathsep + 'C:/Program Files (x86)/Graphviz2.38/bin'\n",
    "import lightgbm as lgb\n",
    "\n",
    "lgb.create_tree_digraph(clf, tree_index=10)"
   ]
  },
  {
   "cell_type": "code",
   "execution_count": null,
   "metadata": {
    "collapsed": true
   },
   "outputs": [],
   "source": []
  }
 ],
 "metadata": {
  "kernelspec": {
   "display_name": "Python 3",
   "language": "python",
   "name": "python3"
  },
  "language_info": {
   "codemirror_mode": {
    "name": "ipython",
    "version": 3
   },
   "file_extension": ".py",
   "mimetype": "text/x-python",
   "name": "python",
   "nbconvert_exporter": "python",
   "pygments_lexer": "ipython3",
   "version": "3.7.1"
  }
 },
 "nbformat": 4,
 "nbformat_minor": 2
}
