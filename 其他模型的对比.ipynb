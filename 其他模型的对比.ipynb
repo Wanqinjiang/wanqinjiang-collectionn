{
 "cells": [
  {
   "cell_type": "code",
   "execution_count": 1,
   "metadata": {},
   "outputs": [],
   "source": [
    "import pandas as pd\n",
    "import numpy as np\n",
    "import xgboost as xgb\n",
    "from sklearn.metrics import roc_auc_score\n",
    "from xgboost import XGBClassifier\n",
    "from sklearn.neighbors import KNeighborsClassifier\n",
    "from sklearn.model_selection import KFold\n",
    "from scipy.interpolate import lagrange\n",
    "from sklearn.ensemble import RandomForestClassifier\n",
    "from sklearn.discriminant_analysis import LinearDiscriminantAnalysis\n",
    "import matplotlib.pyplot as plt\n",
    "from sklearn.svm import SVC\n",
    "from sklearn.linear_model import LogisticRegressionCV,LinearRegression\n",
    "from sklearn.linear_model.logistic import LogisticRegression\n",
    "from sklearn.model_selection import train_test_split\n",
    "from sklearn.model_selection import cross_val_score\n",
    "from sklearn.model_selection import StratifiedKFold\n",
    "from sklearn.model_selection import GridSearchCV\n",
    "from sklearn.decomposition import PCA\n",
    "from sklearn.manifold import TSNE\n",
    "from sklearn import metrics\n",
    "from sklearn.preprocessing import OneHotEncoder\n",
    "from collections import Counter\n",
    "import pandas as pd\n",
    "import numpy as np\n",
    "import xgboost as xgb\n",
    "from sklearn.metrics import roc_auc_score\n",
    "from xgboost import XGBClassifier\n",
    "from sklearn.model_selection import KFold\n",
    "from scipy.interpolate import lagrange\n",
    "import matplotlib.pyplot as plt\n",
    "from sklearn.linear_model import LogisticRegressionCV,LinearRegression\n",
    "from sklearn.linear_model.logistic import LogisticRegression\n",
    "from sklearn.model_selection import train_test_split\n",
    "from sklearn.model_selection import cross_val_score\n",
    "from sklearn.model_selection import StratifiedKFold\n",
    "from sklearn.model_selection import GridSearchCV\n",
    "from sklearn.feature_selection import SelectKBest\n",
    "from sklearn.feature_selection import chi2\n",
    "from sklearn.decomposition import PCA\n",
    "from sklearn.manifold import TSNE\n",
    "from sklearn.metrics import roc_curve\n",
    "import lightgbm as lgb\n",
    "from sklearn.pipeline import make_pipeline\n",
    "from sklearn import metrics\n",
    "from collections import Counter\n",
    "from catboost import CatBoostClassifier\n",
    "import random\n",
    "from sklearn.neighbors import NearestNeighbors"
   ]
  },
  {
   "cell_type": "code",
   "execution_count": 2,
   "metadata": {},
   "outputs": [
    {
     "name": "stdout",
     "output_type": "stream",
     "text": [
      "(15342, 21)\n"
     ]
    }
   ],
   "source": [
    "place = '4.txt'\n",
    "train = pd.read_csv(place, sep='\\t')\n",
    "print(train.shape)"
   ]
  },
  {
   "cell_type": "code",
   "execution_count": 3,
   "metadata": {},
   "outputs": [
    {
     "name": "stdout",
     "output_type": "stream",
     "text": [
      "13459\n",
      "1883\n"
     ]
    }
   ],
   "source": [
    "y = train['fld']\n",
    "train = train.drop(['fld'],axis=1)\n",
    "print(np.sum(y==0))\n",
    "print(np.sum(y==1))"
   ]
  },
  {
   "cell_type": "code",
   "execution_count": 4,
   "metadata": {},
   "outputs": [],
   "source": [
    "X = np.array(train)\n",
    "y = np.array(y)"
   ]
  },
  {
   "cell_type": "code",
   "execution_count": 5,
   "metadata": {},
   "outputs": [
    {
     "name": "stderr",
     "output_type": "stream",
     "text": [
      "F:\\Tools\\Anaconda\\lib\\site-packages\\sklearn\\linear_model\\logistic.py:433: FutureWarning: Default solver will be changed to 'lbfgs' in 0.22. Specify a solver to silence this warning.\n",
      "  FutureWarning)\n",
      "F:\\Tools\\Anaconda\\lib\\site-packages\\sklearn\\linear_model\\logistic.py:433: FutureWarning: Default solver will be changed to 'lbfgs' in 0.22. Specify a solver to silence this warning.\n",
      "  FutureWarning)\n",
      "F:\\Tools\\Anaconda\\lib\\site-packages\\sklearn\\linear_model\\logistic.py:433: FutureWarning: Default solver will be changed to 'lbfgs' in 0.22. Specify a solver to silence this warning.\n",
      "  FutureWarning)\n",
      "F:\\Tools\\Anaconda\\lib\\site-packages\\sklearn\\linear_model\\logistic.py:433: FutureWarning: Default solver will be changed to 'lbfgs' in 0.22. Specify a solver to silence this warning.\n",
      "  FutureWarning)\n",
      "F:\\Tools\\Anaconda\\lib\\site-packages\\sklearn\\linear_model\\logistic.py:433: FutureWarning: Default solver will be changed to 'lbfgs' in 0.22. Specify a solver to silence this warning.\n",
      "  FutureWarning)\n",
      "F:\\Tools\\Anaconda\\lib\\site-packages\\sklearn\\linear_model\\logistic.py:433: FutureWarning: Default solver will be changed to 'lbfgs' in 0.22. Specify a solver to silence this warning.\n",
      "  FutureWarning)\n",
      "F:\\Tools\\Anaconda\\lib\\site-packages\\sklearn\\linear_model\\logistic.py:433: FutureWarning: Default solver will be changed to 'lbfgs' in 0.22. Specify a solver to silence this warning.\n",
      "  FutureWarning)\n",
      "F:\\Tools\\Anaconda\\lib\\site-packages\\sklearn\\linear_model\\logistic.py:433: FutureWarning: Default solver will be changed to 'lbfgs' in 0.22. Specify a solver to silence this warning.\n",
      "  FutureWarning)\n",
      "F:\\Tools\\Anaconda\\lib\\site-packages\\sklearn\\linear_model\\logistic.py:433: FutureWarning: Default solver will be changed to 'lbfgs' in 0.22. Specify a solver to silence this warning.\n",
      "  FutureWarning)\n",
      "F:\\Tools\\Anaconda\\lib\\site-packages\\sklearn\\linear_model\\logistic.py:433: FutureWarning: Default solver will be changed to 'lbfgs' in 0.22. Specify a solver to silence this warning.\n",
      "  FutureWarning)\n"
     ]
    },
    {
     "name": "stdout",
     "output_type": "stream",
     "text": [
      "The accuracy on trainging set is: 0.883826560513518 The accuracy on test set is: 0.8832632230162121\n",
      "The Sensitivity is: 0.2098249465270742 The Specificity is 0.9774876406480443\n",
      "auc is: 0.5936562935875593\n"
     ]
    }
   ],
   "source": [
    "skf = StratifiedKFold(n_splits=10,random_state=0,shuffle=True)\n",
    "clf = LogisticRegression()\n",
    "score1 = []\n",
    "score2 = []\n",
    "Sensitivity = []\n",
    "Specificity = []\n",
    "auc = []\n",
    "A = []\n",
    "for train, test in skf.split(X,y):\n",
    "    X_train,X_test=X[train],X[test]\n",
    "    y_train,y_test=y[train],y[test]\n",
    "    clf.fit(X_train, y_train)\n",
    "    \n",
    "    y_pred1 = clf.predict(X_train)\n",
    "    accuracy1 = np.mean(y_train==y_pred1)\n",
    "    score1.append(accuracy1)\n",
    "    \n",
    "    y_pred2 = clf.predict(X_test)\n",
    "    accuracy2 = np.mean(y_test==y_pred2)\n",
    "    score2.append(accuracy2)\n",
    "    confusion = metrics.confusion_matrix(y_test, y_pred2)\n",
    "    auc_ = metrics.roc_auc_score(y_test, y_pred2)\n",
    "    TP = confusion[1, 1]\n",
    "    TN = confusion[0, 0]\n",
    "    FP = confusion[0, 1]\n",
    "    FN = confusion[1, 0]\n",
    "    TPR = TP/(TP+FN)\n",
    "    TNR = TN/(TN+FP)\n",
    "    Sensitivity.append(TPR)\n",
    "    Specificity.append(TNR)\n",
    "    auc.append(auc_)\n",
    "score1 = np.array(score1)\n",
    "score2 = np.array(score2)\n",
    "Sensitivity = np.array(Sensitivity)\n",
    "Specificity = np.array(Specificity)\n",
    "auc = np.array(auc)\n",
    "print('The accuracy on trainging set is:',np.mean(score1),'The accuracy on test set is:', np.mean(score2))\n",
    "print('The Sensitivity is:', np.mean(Sensitivity), 'The Specificity is', np.mean(Specificity))\n",
    "print('auc is:', np.mean(auc))"
   ]
  },
  {
   "cell_type": "code",
   "execution_count": 5,
   "metadata": {},
   "outputs": [
    {
     "name": "stderr",
     "output_type": "stream",
     "text": [
      "E:\\Tools\\ananconda\\lib\\site-packages\\sklearn\\ensemble\\forest.py:246: FutureWarning: The default value of n_estimators will change from 10 in version 0.20 to 100 in 0.22.\n",
      "  \"10 in version 0.20 to 100 in 0.22.\", FutureWarning)\n"
     ]
    },
    {
     "name": "stdout",
     "output_type": "stream",
     "text": [
      "The accuracy on trainging set is: 0.760374604216 The accuracy on test set is: 0.754269076771\n",
      "The Sensitivity is: 0.807193515704 The Specificity is 0.746861636019\n",
      "auc is: 0.777027575862\n"
     ]
    }
   ],
   "source": [
    "skf = StratifiedKFold(n_splits=10,random_state=0,shuffle=True)\n",
    "clf = RandomForestClassifier(max_depth=5, random_state=0, class_weight='balanced')\n",
    "score1 = []\n",
    "score2 = []\n",
    "Sensitivity = []\n",
    "Specificity = []\n",
    "auc = []\n",
    "A = []\n",
    "for train, test in skf.split(X,y):\n",
    "    X_train,X_test=X[train],X[test]\n",
    "    y_train,y_test=y[train],y[test]\n",
    "    clf.fit(X_train, y_train)\n",
    "    \n",
    "    y_pred1 = clf.predict(X_train)\n",
    "    accuracy1 = np.mean(y_train==y_pred1)\n",
    "    score1.append(accuracy1)\n",
    "    \n",
    "    y_pred2 = clf.predict(X_test)\n",
    "    accuracy2 = np.mean(y_test==y_pred2)\n",
    "    score2.append(accuracy2)\n",
    "    confusion = metrics.confusion_matrix(y_test, y_pred2)\n",
    "    auc_ = metrics.roc_auc_score(y_test, y_pred2)\n",
    "    TP = confusion[1, 1]\n",
    "    TN = confusion[0, 0]\n",
    "    FP = confusion[0, 1]\n",
    "    FN = confusion[1, 0]\n",
    "    TPR = TP/(TP+FN)\n",
    "    TNR = TN/(TN+FP)\n",
    "    Sensitivity.append(TPR)\n",
    "    Specificity.append(TNR)\n",
    "    auc.append(auc_)\n",
    "score1 = np.array(score1)\n",
    "score2 = np.array(score2)\n",
    "Sensitivity = np.array(Sensitivity)\n",
    "Specificity = np.array(Specificity)\n",
    "auc = np.array(auc)\n",
    "print('The accuracy on trainging set is:',np.mean(score1),'The accuracy on test set is:', np.mean(score2))\n",
    "print('The Sensitivity is:', np.mean(Sensitivity), 'The Specificity is', np.mean(Specificity))\n",
    "print('auc is:', np.mean(auc))"
   ]
  },
  {
   "cell_type": "code",
   "execution_count": 19,
   "metadata": {},
   "outputs": [
    {
     "name": "stdout",
     "output_type": "stream",
     "text": [
      "The accuracy on trainging set is: 0.883355800556 The accuracy on test set is: 0.883002254592\n",
      "The Sensitivity is: 0.251201733649 The Specificity is 0.971395073935\n",
      "auc is: 0.611298403792\n"
     ]
    }
   ],
   "source": [
    "skf = StratifiedKFold(n_splits=10,random_state=0,shuffle=True)\n",
    "clf = LinearDiscriminantAnalysis(n_components=10)\n",
    "score1 = []\n",
    "score2 = []\n",
    "Sensitivity = []\n",
    "Specificity = []\n",
    "auc = []\n",
    "A = []\n",
    "for train, test in skf.split(X,y):\n",
    "    X_train,X_test=X[train],X[test]\n",
    "    y_train,y_test=y[train],y[test]\n",
    "    clf.fit(X_train, y_train)\n",
    "    \n",
    "    y_pred1 = clf.predict(X_train)\n",
    "    accuracy1 = np.mean(y_train==y_pred1)\n",
    "    score1.append(accuracy1)\n",
    "    \n",
    "    y_pred2 = clf.predict(X_test)\n",
    "    accuracy2 = np.mean(y_test==y_pred2)\n",
    "    score2.append(accuracy2)\n",
    "    confusion = metrics.confusion_matrix(y_test, y_pred2)\n",
    "    auc_ = metrics.roc_auc_score(y_test, y_pred2)\n",
    "    TP = confusion[1, 1]\n",
    "    TN = confusion[0, 0]\n",
    "    FP = confusion[0, 1]\n",
    "    FN = confusion[1, 0]\n",
    "    TPR = TP/(TP+FN)\n",
    "    TNR = TN/(TN+FP)\n",
    "    Sensitivity.append(TPR)\n",
    "    Specificity.append(TNR)\n",
    "    auc.append(auc_)\n",
    "score1 = np.array(score1)\n",
    "score2 = np.array(score2)\n",
    "Sensitivity = np.array(Sensitivity)\n",
    "Specificity = np.array(Specificity)\n",
    "auc = np.array(auc)\n",
    "print('The accuracy on trainging set is:',np.mean(score1),'The accuracy on test set is:', np.mean(score2))\n",
    "print('The Sensitivity is:', np.mean(Sensitivity), 'The Specificity is', np.mean(Specificity))\n",
    "print('auc is:', np.mean(auc))"
   ]
  },
  {
   "cell_type": "code",
   "execution_count": 23,
   "metadata": {},
   "outputs": [
    {
     "name": "stdout",
     "output_type": "stream",
     "text": [
      "The accuracy on trainging set is: 0.914026855378 The accuracy on test set is: 0.857451712703\n",
      "The Sensitivity is: 0.210314645953 The Specificity is 0.947990797461\n",
      "auc is: 0.579152721707\n"
     ]
    }
   ],
   "source": [
    "skf = StratifiedKFold(n_splits=10,random_state=0,shuffle=True)\n",
    "clf = KNeighborsClassifier(n_neighbors=3)\n",
    "score1 = []\n",
    "score2 = []\n",
    "Sensitivity = []\n",
    "Specificity = []\n",
    "auc = []\n",
    "A = []\n",
    "for train, test in skf.split(X,y):\n",
    "    X_train,X_test=X[train],X[test]\n",
    "    y_train,y_test=y[train],y[test]\n",
    "    clf.fit(X_train, y_train)\n",
    "    \n",
    "    y_pred1 = clf.predict(X_train)\n",
    "    accuracy1 = np.mean(y_train==y_pred1)\n",
    "    score1.append(accuracy1)\n",
    "    \n",
    "    y_pred2 = clf.predict(X_test)\n",
    "    accuracy2 = np.mean(y_test==y_pred2)\n",
    "    score2.append(accuracy2)\n",
    "    confusion = metrics.confusion_matrix(y_test, y_pred2)\n",
    "    auc_ = metrics.roc_auc_score(y_test, y_pred2)\n",
    "    TP = confusion[1, 1]\n",
    "    TN = confusion[0, 0]\n",
    "    FP = confusion[0, 1]\n",
    "    FN = confusion[1, 0]\n",
    "    TPR = TP/(TP+FN)\n",
    "    TNR = TN/(TN+FP)\n",
    "    Sensitivity.append(TPR)\n",
    "    Specificity.append(TNR)\n",
    "    auc.append(auc_)\n",
    "score1 = np.array(score1)\n",
    "score2 = np.array(score2)\n",
    "Sensitivity = np.array(Sensitivity)\n",
    "Specificity = np.array(Specificity)\n",
    "auc = np.array(auc)\n",
    "print('The accuracy on trainging set is:',np.mean(score1),'The accuracy on test set is:', np.mean(score2))\n",
    "print('The Sensitivity is:', np.mean(Sensitivity), 'The Specificity is', np.mean(Specificity))\n",
    "print('auc is:', np.mean(auc))"
   ]
  },
  {
   "cell_type": "code",
   "execution_count": 26,
   "metadata": {},
   "outputs": [
    {
     "name": "stdout",
     "output_type": "stream",
     "text": [
      "The accuracy on trainging set is: 0.789090255121 The accuracy on test set is: 0.755507286804\n",
      "The Sensitivity is: 0.752482269504 The Specificity is 0.755926191883\n",
      "auc is: 0.754204230693\n"
     ]
    }
   ],
   "source": [
    "skf = StratifiedKFold(n_splits=10,random_state=0,shuffle=True)\n",
    "clf = SVC(C=1.0, cache_size=200, class_weight='balanced', gamma='scale', kernel='rbf',tol=0.001)\n",
    "score1 = []\n",
    "score2 = []\n",
    "Sensitivity = []\n",
    "Specificity = []\n",
    "auc = []\n",
    "A = []\n",
    "for train, test in skf.split(X,y):\n",
    "    X_train,X_test=X[train],X[test]\n",
    "    y_train,y_test=y[train],y[test]\n",
    "    clf.fit(X_train, y_train)\n",
    "    \n",
    "    y_pred1 = clf.predict(X_train)\n",
    "    accuracy1 = np.mean(y_train==y_pred1)\n",
    "    score1.append(accuracy1)\n",
    "    \n",
    "    y_pred2 = clf.predict(X_test)\n",
    "    accuracy2 = np.mean(y_test==y_pred2)\n",
    "    score2.append(accuracy2)\n",
    "    confusion = metrics.confusion_matrix(y_test, y_pred2)\n",
    "    auc_ = metrics.roc_auc_score(y_test, y_pred2)\n",
    "    TP = confusion[1, 1]\n",
    "    TN = confusion[0, 0]\n",
    "    FP = confusion[0, 1]\n",
    "    FN = confusion[1, 0]\n",
    "    TPR = TP/(TP+FN)\n",
    "    TNR = TN/(TN+FP)\n",
    "    Sensitivity.append(TPR)\n",
    "    Specificity.append(TNR)\n",
    "    auc.append(auc_)\n",
    "score1 = np.array(score1)\n",
    "score2 = np.array(score2)\n",
    "Sensitivity = np.array(Sensitivity)\n",
    "Specificity = np.array(Specificity)\n",
    "auc = np.array(auc)\n",
    "print('The accuracy on trainging set is:',np.mean(score1),'The accuracy on test set is:', np.mean(score2))\n",
    "print('The Sensitivity is:', np.mean(Sensitivity), 'The Specificity is', np.mean(Specificity))\n",
    "print('auc is:', np.mean(auc))"
   ]
  },
  {
   "cell_type": "code",
   "execution_count": null,
   "metadata": {},
   "outputs": [],
   "source": []
  }
 ],
 "metadata": {
  "kernelspec": {
   "display_name": "Python 3",
   "language": "python",
   "name": "python3"
  },
  "language_info": {
   "codemirror_mode": {
    "name": "ipython",
    "version": 3
   },
   "file_extension": ".py",
   "mimetype": "text/x-python",
   "name": "python",
   "nbconvert_exporter": "python",
   "pygments_lexer": "ipython3",
   "version": "3.7.3"
  }
 },
 "nbformat": 4,
 "nbformat_minor": 2
}
